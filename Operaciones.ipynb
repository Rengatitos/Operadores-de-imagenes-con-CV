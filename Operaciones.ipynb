{
  "nbformat": 4,
  "nbformat_minor": 0,
  "metadata": {
    "colab": {
      "provenance": [],
      "authorship_tag": "ABX9TyMRC6SuE2jgdzU1PF4Z6PhI",
      "include_colab_link": true
    },
    "kernelspec": {
      "name": "python3",
      "display_name": "Python 3"
    },
    "language_info": {
      "name": "python"
    }
  },
  "cells": [
    {
      "cell_type": "markdown",
      "metadata": {
        "id": "view-in-github",
        "colab_type": "text"
      },
      "source": [
        "<a href=\"https://colab.research.google.com/github/Rengatitos/Operadores-de-imagenes-con-CV/blob/main/Operaciones.ipynb\" target=\"_parent\"><img src=\"https://colab.research.google.com/assets/colab-badge.svg\" alt=\"Open In Colab\"/></a>"
      ]
    },
    {
      "cell_type": "markdown",
      "source": [
        "# OPERACIONES PUNTUALES"
      ],
      "metadata": {
        "id": "7hUrThcVTBPN"
      }
    },
    {
      "cell_type": "code",
      "execution_count": null,
      "metadata": {
        "id": "oHaCdZRJR-KQ"
      },
      "outputs": [],
      "source": [
        "import matplotlib.pyplot as plt\n",
        "import numpy as np\n",
        "import pandas as pd\n",
        "import cv2 as"
      ]
    },
    {
      "cell_type": "code",
      "source": [
        "I = cv.imread('lenna.png')"
      ],
      "metadata": {
        "id": "Pkwi7lX6R-mW"
      },
      "execution_count": null,
      "outputs": []
    },
    {
      "cell_type": "markdown",
      "source": [
        "## Operador identidad"
      ],
      "metadata": {
        "id": "E0jjuLvdTI-K"
      }
    },
    {
      "cell_type": "code",
      "source": [
        "def identidad(I):\n",
        "  return(I)"
      ],
      "metadata": {
        "id": "Nd-HcSVNSR1q"
      },
      "execution_count": null,
      "outputs": []
    },
    {
      "cell_type": "markdown",
      "source": [
        "## Operador negativo"
      ],
      "metadata": {
        "id": "w5XMfG_ATZOD"
      }
    },
    {
      "cell_type": "code",
      "source": [
        "def negativo(I):\n",
        "  return(255-I)"
      ],
      "metadata": {
        "id": "aQuYFgdzTieY"
      },
      "execution_count": null,
      "outputs": []
    },
    {
      "cell_type": "markdown",
      "source": [
        "## Operador umbral"
      ],
      "metadata": {
        "id": "aeagthk6ToQZ"
      }
    },
    {
      "cell_type": "code",
      "source": [
        "def umbral(I,u):\n",
        "  I[I<=u]=0\n",
        "  I[I>u]=255\n",
        "  return(I)"
      ],
      "metadata": {
        "id": "5p-AYzb5Ttwj"
      },
      "execution_count": null,
      "outputs": []
    },
    {
      "cell_type": "markdown",
      "source": [
        "## Operador umbral binario"
      ],
      "metadata": {
        "id": "nOrjB71nVwFj"
      }
    },
    {
      "cell_type": "code",
      "source": [
        "def umbral_binario(I,u1,u2):\n",
        "  if u2 <= u1:\n",
        "        raise ValueError(\"Ingrese umbrales validos\")\n",
        "  I[I<=u1 | u2<=I]=0\n",
        "  I[u1<I & I<u2]=255\n",
        "  I[u2<I]=255\n",
        "  return(I)"
      ],
      "metadata": {
        "id": "FmmMZyNLV4zx"
      },
      "execution_count": null,
      "outputs": []
    },
    {
      "cell_type": "markdown",
      "source": [
        "## Operador umbral binario invertido"
      ],
      "metadata": {
        "id": "Oi5rDb0uW_Pe"
      }
    },
    {
      "cell_type": "code",
      "source": [
        "def umbral_binario_invertido1(I,u1,u2):\n",
        "  if u2 <= u1:\n",
        "        raise ValueError(\"Ingrese umbrales validos\")\n",
        "  I[I<=u1 | u2<=I]=255\n",
        "  I[u1<I & I<u2]=0\n",
        "  return (I)"
      ],
      "metadata": {
        "id": "IW8wwa0vXESb"
      },
      "execution_count": null,
      "outputs": []
    },
    {
      "cell_type": "code",
      "source": [
        "def umbral_binario_invertido2(I,u1,u2):\n",
        "  if u2 <= u1:\n",
        "        raise ValueError(\"Ingrese umbrales validos\")\n",
        "  negativo(umbral_binario(I,u1,u2))\n",
        "\n",
        "  return (I)"
      ],
      "metadata": {
        "id": "FgEaSG0AXg69"
      },
      "execution_count": null,
      "outputs": []
    },
    {
      "cell_type": "markdown",
      "source": [
        "## Operador umbral escala de grises"
      ],
      "metadata": {
        "id": "fYK-vW4SXag_"
      }
    },
    {
      "cell_type": "code",
      "source": [
        "def umbral_grises(I,u1,u2):\n",
        "  if u2 <= u1:\n",
        "        raise ValueError(\"Ingrese umbrales validos\")\n",
        "  I[I<=u1 | u2<=I]=255\n",
        "  return(I)"
      ],
      "metadata": {
        "id": "4Gd2H5ZVXaF_"
      },
      "execution_count": null,
      "outputs": []
    },
    {
      "cell_type": "markdown",
      "source": [
        "## Operador extensión"
      ],
      "metadata": {
        "id": "9jFs_w2rYjgP"
      }
    },
    {
      "cell_type": "code",
      "source": [
        "def operador_exten(I, u1, u2):\n",
        "    if u2 <= u1:\n",
        "        raise ValueError(\"Ingrese umbrales validos\")\n",
        "\n",
        "    I = I.astype(np.float32, copy=True)\n",
        "    a = (I > u1) & (I < u2)\n",
        "    I[~a] = 255.0\n",
        "    I[a] = (I[a] - u1) * (255.0 / (u2 - u1))\n",
        "    return I.astype(np.uint8)"
      ],
      "metadata": {
        "id": "c5KwV_msYtFq"
      },
      "execution_count": null,
      "outputs": []
    },
    {
      "cell_type": "markdown",
      "source": [
        "## Operador reducción de niveles gris"
      ],
      "metadata": {
        "id": "Vx4iP0mSbIA1"
      }
    },
    {
      "cell_type": "code",
      "source": [
        "def reduccion_niveles(I, vmin, n):\n",
        "    I = I.astype(np.float32, copy=True)\n",
        "    step = 256 // n\n",
        "    for k in range(n):\n",
        "        low = k * step\n",
        "        high = (k+1) * step\n",
        "        I[(I >= low) & (I < high)] = vmin\n",
        "        vmin += step\n",
        "\n",
        "    return I.astype(np.uint8)"
      ],
      "metadata": {
        "id": "spDImcYPclyI"
      },
      "execution_count": 14,
      "outputs": []
    },
    {
      "cell_type": "markdown",
      "source": [
        "## Transformación punto a punto"
      ],
      "metadata": {
        "id": "9Q6kiWDLfFYe"
      }
    },
    {
      "cell_type": "code",
      "source": [
        "def suma(I1, I2):\n",
        "    return np.clip(I1 + I2, 0, 255).astype(np.uint8)\n"
      ],
      "metadata": {
        "id": "zmhi4SSYfMDL"
      },
      "execution_count": 17,
      "outputs": []
    },
    {
      "cell_type": "code",
      "source": [
        "def resta(I1, I2):\n",
        "    return np.abs(I1.astype(np.int16) - I2.astype(np.int16)).astype(np.uint8)"
      ],
      "metadata": {
        "id": "EIMoJy3JfqAb"
      },
      "execution_count": 18,
      "outputs": []
    },
    {
      "cell_type": "code",
      "source": [],
      "metadata": {
        "id": "w9PJFQQxguUd"
      },
      "execution_count": null,
      "outputs": []
    }
  ]
}